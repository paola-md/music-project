{
 "cells": [
  {
   "cell_type": "code",
   "execution_count": 1,
   "id": "ed760f4b",
   "metadata": {
    "ExecuteTime": {
     "end_time": "2022-06-16T21:30:57.330333Z",
     "start_time": "2022-06-16T21:30:55.792892Z"
    }
   },
   "outputs": [],
   "source": [
    "import os\n",
    "import pickle\n",
    "from typing import Tuple\n",
    "\n",
    "import numpy as np\n",
    "import pandas as pd\n",
    "\n",
    "import librosa\n",
    "from librosa.feature import mfcc\n",
    "\n",
    "from scipy.io import wavfile\n",
    "from matplotlib import pyplot as plt"
   ]
  },
  {
   "cell_type": "code",
   "execution_count": 2,
   "id": "ab615e69",
   "metadata": {
    "ExecuteTime": {
     "end_time": "2022-06-16T21:30:57.630025Z",
     "start_time": "2022-06-16T21:30:57.624888Z"
    }
   },
   "outputs": [
    {
     "data": {
      "text/plain": [
       "'/Users/cock/kDrive/PhD/Courses/computer and music/project-github/music-project'"
      ]
     },
     "execution_count": 2,
     "metadata": {},
     "output_type": "execute_result"
    }
   ],
   "source": [
    "pwd"
   ]
  },
  {
   "cell_type": "markdown",
   "id": "24925fe7",
   "metadata": {},
   "source": [
    "# Basic Functions"
   ]
  },
  {
   "cell_type": "markdown",
   "id": "a6a70775",
   "metadata": {},
   "source": [
    "## Load WAV files"
   ]
  },
  {
   "cell_type": "code",
   "execution_count": 3,
   "id": "3fed8fd2",
   "metadata": {
    "ExecuteTime": {
     "end_time": "2022-06-16T21:30:59.479844Z",
     "start_time": "2022-06-16T21:30:59.476427Z"
    }
   },
   "outputs": [],
   "source": [
    "def load_wav(path:str) -> Tuple[float, list]:\n",
    "    \"\"\"\n",
    "    Used to load wav files called `path` in the folder named style_transfer_files.\n",
    "    The sampling rate is the one associated with the file itself. \n",
    "    \n",
    "    Args:\n",
    "        path (str): path of the wav file to read\n",
    "        \n",
    "    Returns:\n",
    "        sample_rate (float): sample rate from the wav files read\n",
    "        wav (list): sequential values representing the audio files (here wav)\n",
    "    \"\"\"\n",
    "    wav, sample_rate = librosa.load('./data/style_transfer_files/{}.wav'.format(path))\n",
    "    return sample_rate, wav"
   ]
  },
  {
   "cell_type": "markdown",
   "id": "c72f0b24",
   "metadata": {},
   "source": [
    "## Distance Metrics"
   ]
  },
  {
   "cell_type": "code",
   "execution_count": 4,
   "id": "7f8ee57a",
   "metadata": {
    "ExecuteTime": {
     "end_time": "2022-06-16T21:31:00.338692Z",
     "start_time": "2022-06-16T21:31:00.246603Z"
    }
   },
   "outputs": [],
   "source": [
    "def l2(signal1: list, signal2: list, **kwargs) -> float:\n",
    "    \"\"\"\n",
    "    Compute the L2 loss between signal1 and signal 2.\n",
    "    formula: sqrt(sum((s1-s2)^2))\n",
    "    \n",
    "    Args: \n",
    "        signal1 (list): sequence of n samples (1d) \n",
    "        signal2 (list): sequence of n samples (2d)\n",
    "        \n",
    "    Returns:\n",
    "        l2 loss between signal1 and signal2\n",
    "    \"\"\"\n",
    "    assert len(signal1) == len(signal2)\n",
    "    error = np.array(signal1) - np.array(signal2)\n",
    "    error = error ** 2\n",
    "    error = np.sqrt(np.sum(error))\n",
    "    return error\n",
    "\n",
    "def mfcc_l2_loss(signal1: list, samplerate_1: float, signal2: list, samplerate_2: float, **kwargs) -> float:\n",
    "    \"\"\"\n",
    "    Computes the averaged L2 loss on the mfcc of signal1 and signal2. \n",
    "    Specifically:\n",
    "        - it computes the mfcc for each signals (n_coefficients x n_windows), \n",
    "        - it computes the l2 norm for the same window in signal1 and signal2 (n_windows losses),\n",
    "        - it averages the values of the l2 norms across time\n",
    "        \n",
    "    Args:\n",
    "        signal1 (list): sequence of n samples (1d) \n",
    "        samplerate_1 (float): sample rate of signal1\n",
    "        signal2 (list): sequence of n samples (1d) \n",
    "        samplerate_2 (float): sample rate of signal2\n",
    "        n_mfcc [kwargs] (int): number of mel coefficients\n",
    "        mfcc_hoplength [kwargs] (int): determines window size\n",
    "        \n",
    "    Returns the average of the l2 loss averaged over time, computed on the mfcc\n",
    "        \n",
    "    \"\"\"\n",
    "    sig1 = np.array(signal1, dtype=float)\n",
    "    sig2 = np.array(signal2, dtype=float)\n",
    "    assert len(sig1) == len(sig2)\n",
    "    mel_1 = mfcc(y=sig1, sr=samplerate_1, n_mfcc=kwargs['n_mfcc'], hop_length=kwargs['mfcc_hoplength'])\n",
    "    mel_2 = mfcc(y=sig2, sr=samplerate_2, n_mfcc=kwargs['n_mfcc'], hop_length=kwargs['mfcc_hoplength'])\n",
    "    mel_1 = mel_1[1:]\n",
    "    mel_2 = mel_2[1:]\n",
    "    \n",
    "    error = np.array(mel_1) - np.array(mel_2)\n",
    "    error = error ** 2\n",
    "    error = np.sqrt(np.sum(error, axis=0))\n",
    "    error = np.mean(error)\n",
    "    return error\n",
    "\n",
    "def l2_mfcc_loss(signal1: list, samplerate_1: float, signal2: list, samplerate_2: float, **kwargs) -> float:\n",
    "    \"\"\"\n",
    "    Computes the L2 loss on the averaged mfcc of signal1 and signal2. \n",
    "    Specifically:\n",
    "        - it computes the mfcc for each signal (n_coefficients x n_windows), \n",
    "        - it computes the average mfcc for each signal over time\n",
    "        - it computes the l2 loss for signal1 and signal2 (n_windows losses),\n",
    "        \n",
    "    Args:\n",
    "        signal1 (list): sequence of n samples (1d) \n",
    "        samplerate_1 (float): sample rate of signal1\n",
    "        signal2 (list): sequence of n samples (1d) \n",
    "        samplerate_2 (float): sample rate of signal2\n",
    "        n_mfcc [kwargs] (int): number of mel coefficients\n",
    "        mfcc_hoplength [kwargs] (int): determines window size\n",
    "        \n",
    "    Returns the average of the l2 loss computed on the mfcc averaged over time\n",
    "    \"\"\"\n",
    "        \n",
    "    sig1 = np.array(signal1, dtype=float)\n",
    "    sig2 = np.array(signal2, dtype=float)\n",
    "    assert len(sig1) == len(sig2)\n",
    "    mel_1 = mfcc(y=sig1, sr=samplerate_1, n_mfcc=kwargs['n_mfcc'], hop_length=kwargs['mfcc_hoplength'])\n",
    "    mel_2 = mfcc(y=sig2, sr=samplerate_2, n_mfcc=kwargs['n_mfcc'], hop_length=kwargs['mfcc_hoplength'])\n",
    "    mel_1 = mel_1[1:]\n",
    "    mel_2 = mel_2[1:]\n",
    "    return l2(np.mean(mel_1, axis=1), np.mean(mel_2, axis=1))\n",
    "\n",
    "\n",
    "def mse(signal1: list, signal2: list, **kwargs) -> float:\n",
    "    \"\"\"\n",
    "    Compute the mse loss between signal1 and signal 2.\n",
    "    formula: sum((s1-s2)^2) / len(s1)\n",
    "    \n",
    "    Args: \n",
    "        signal1 (list): sequence of n samples (1d) \n",
    "        signal2 (list): sequence of n samples (2d)\n",
    "        \n",
    "    Returns:\n",
    "        l2 loss between signal1 and signal2\n",
    "    \"\"\"\n",
    "    assert len(signal1) == len(signal2)\n",
    "    error = np.array(signal1) - np.array(signal2)\n",
    "    error = error ** 2\n",
    "    error = np.sum(error) / len(signal1)\n",
    "    return error\n",
    "\n",
    "def mfcc_mse_loss(signal1: list, samplerate_1: float, signal2: list, samplerate_2: float, **kwargs) -> float:\n",
    "    \"\"\"\n",
    "    Computes the averaged mse loss on the mfcc of signal1 and signal2. \n",
    "    Specifically:\n",
    "        - it computes the mfcc for each signals (n_coefficients x n_windows), \n",
    "        - it computes the mse norm for the same window in signal1 and signal2 (n_windows losses),\n",
    "        - it averages the values of the mse norms across time\n",
    "        \n",
    "    Args:\n",
    "        signal1 (list): sequence of n samples (1d) \n",
    "        samplerate_1 (float): sample rate of signal1\n",
    "        signal2 (list): sequence of n samples (1d) \n",
    "        samplerate_2 (float): sample rate of signal2\n",
    "        n_mfcc [kwargs] (int): number of mel coefficients\n",
    "        mfcc_hoplength [kwargs] (int): determines window size\n",
    "        \n",
    "    Returns the average of the mse loss averaged over time, computed on the mfcc\n",
    "        \n",
    "    \"\"\"\n",
    "    sig1 = np.array(signal1, dtype=float)\n",
    "    sig2 = np.array(signal2, dtype=float)\n",
    "    assert len(sig1) == len(sig2)\n",
    "    mel_1 = mfcc(y=sig1, sr=samplerate_1, n_mfcc=kwargs['n_mfcc'], hop_length=kwargs['mfcc_hoplength'])\n",
    "    mel_2 = mfcc(y=sig2, sr=samplerate_2, n_mfcc=kwargs['n_mfcc'], hop_length=kwargs['mfcc_hoplength'])\n",
    "    mel_1 = mel_1[1:]\n",
    "    mel_2 = mel_2[1:]\n",
    "    \n",
    "    error = np.array(mel_1) - np.array(mel_2)\n",
    "    error = error ** 2\n",
    "    error = np.sum(error, axis=0) / mel_1.shape[0]\n",
    "    error = np.mean(error)\n",
    "    return error\n",
    "    \n",
    "def mse_mfcc_loss(signal1: list, samplerate_1: float, signal2: list, samplerate_2: float, **kwargs) -> float:\n",
    "    \"\"\"\n",
    "    Computes the mse loss on the averaged mfcc of signal1 and signal2. \n",
    "    Specifically:\n",
    "        - it computes the mfcc for each signal (n_coefficients x n_windows), \n",
    "        - it computes the average mfcc for each signal over time\n",
    "        - it computes the mse loss for signal1 and signal2 (n_windows losses),\n",
    "        \n",
    "    Args:\n",
    "        signal1 (list): sequence of n samples (1d) \n",
    "        samplerate_1 (float): sample rate of signal1\n",
    "        signal2 (list): sequence of n samples (1d) \n",
    "        samplerate_2 (float): sample rate of signal2\n",
    "        n_mfcc [kwargs] (int): number of mel coefficients\n",
    "        mfcc_hoplength [kwargs] (int): determines window size\n",
    "        \n",
    "    Returns the average of the mse loss computed on the mfcc averaged over time\n",
    "    \"\"\"\n",
    "    sig1 = np.array(signal1, dtype=float)\n",
    "    sig2 = np.array(signal2, dtype=float)\n",
    "    assert len(sig1) == len(sig2)\n",
    "    mel_1 = mfcc(y=sig1, sr=samplerate_1, n_mfcc=kwargs['n_mfcc'], hop_length=kwargs['mfcc_hoplength'])\n",
    "    mel_2 = mfcc(y=sig2, sr=samplerate_2, n_mfcc=kwargs['n_mfcc'], hop_length=kwargs['mfcc_hoplength'])\n",
    "    mel_1 = mel_1[1:]\n",
    "    mel_2 = mel_2[1:]\n",
    "    return mse(np.mean(mel_1, axis=1), np.mean(mel_2, axis=1))\n",
    "    \n",
    "def select_metric(metric:str):\n",
    "    \"\"\"\n",
    "    Returns the appropriate function from metric\n",
    "    \"\"\"\n",
    "    if metric == 'mse':\n",
    "        return mse\n",
    "    elif metric == 'mfcc_mse':\n",
    "        return mfcc_mse_loss\n",
    "    elif metric == 'mse_mfcc':\n",
    "        return mse_mfcc_loss\n",
    "    elif metric == 'mfcc_l2':\n",
    "        return mfcc_l2_loss\n",
    "    elif metric == 'l2_mfcc':\n",
    "        return l2_mfcc_loss"
   ]
  },
  {
   "cell_type": "markdown",
   "id": "4fcea36e",
   "metadata": {},
   "source": [
    "## Preprocessing the signals"
   ]
  },
  {
   "cell_type": "markdown",
   "id": "eb9a2482",
   "metadata": {},
   "source": [
    "### Signal subsampling\n",
    "Those functions determine what part of each signal is given to the loss functions"
   ]
  },
  {
   "cell_type": "code",
   "execution_count": 5,
   "id": "36e26e01",
   "metadata": {
    "ExecuteTime": {
     "end_time": "2022-06-16T21:31:01.038293Z",
     "start_time": "2022-06-16T21:31:01.023228Z"
    }
   },
   "outputs": [],
   "source": [
    "def full(signal1: list, samplerate_1: float, signal2: list, samplerate_2: float, loss, **kwargs) -> list:\n",
    "    \"\"\"\n",
    "    Compute the loss directly on the full signals.\n",
    "    If one is longer than the other, it is cropped to fit the length of the shorter one.\n",
    "    (Assumes no alignment technique is necessary)\n",
    "    \n",
    "    Args:\n",
    "        signal1 (list): sequence of n samples (1d) \n",
    "        samplerate_1 (float): sample rate of signal1\n",
    "        signal2 (list): sequence of n samples (1d) \n",
    "        samplerate_2 (float): sample rate of signal2\n",
    "        \n",
    "        loss (fun): function that computes the loss between signal1 and signal2\n",
    "        \n",
    "    Returns:\n",
    "        full_loss [list]: list containing one value, the loss computed between signal1 and signal2\n",
    "    \"\"\"\n",
    "    n_samples = min(len(signal1), len(signal2))\n",
    "    full_loss = loss(signal1[:n_samples], samplerate_1, signal2[:n_samples], samplerate_2, **kwargs)\n",
    "    \n",
    "    return [full_loss]\n",
    "\n",
    "def windowing(signal1: list, samplerate_1: float, signal2: list, samplerate_2: float, loss, **kwargs) -> list:\n",
    "    \"\"\"\n",
    "    Computes the loss on different windows of both signals, and returns a list of the losses per time window.\n",
    "    The beginning samples of each time windows are all multiple of stride. \n",
    "    (Assumes no alignment technique is necessary)\n",
    "    \n",
    "    Args:\n",
    "        signal1 (list): sequence of n samples (1d) \n",
    "        samplerate_1 (float): sample rate of signal1\n",
    "        signal2 (list): sequence of n samples (1d) \n",
    "        samplerate_2 (float): sample rate of signal2\n",
    "        \n",
    "        window_size [kwargs] (float): determines the number of samples for which to compute the loss -> window\n",
    "        stride [kwargs] (float): determines the number of samples between the beginning of each time window\n",
    "    Returns:\n",
    "        loss_values [list]: list of losses for each time window\n",
    "    \"\"\"\n",
    "    \n",
    "    window_size = kwargs['window_size']\n",
    "    stride = kwargs['stride']\n",
    "    \n",
    "    n_samples = min(len(signal1), len(signal2))\n",
    "    begins = list(range(0, n_samples, stride))\n",
    "    if begins[-1] + stride > n_samples:\n",
    "        begins.pop()\n",
    "    loss_values = []\n",
    "    for b in begins:\n",
    "        window_loss = loss(signal1[b:b+stride], samplerate_1, signal2[b:b+stride], samplerate_2, **kwargs)\n",
    "        loss_values.append(window_loss)\n",
    "    \n",
    "    return loss_values\n",
    "\n",
    "def double_windowing(signal1: list, samplerate_1: float, signal2: list, samplerate_2: float, loss, **kwargs):\n",
    "    \"\"\"\n",
    "    Computes the loss on different windows of both signals, and returns a list of the losses per time window.\n",
    "    The beginning samples of each time window can be expressed as (n_samples - i * stride) with n_samples\n",
    "    the length of the shortest signal, i being any natural number as long as the expression is > 0, and stride \n",
    "    being the number of samples being between each beginning of a window frame. \n",
    "    The beginning of each time window can also be expressed as i * stride.\n",
    "    We thus have twice as many windows as the windowing technique. \n",
    "    (Assumes no alignment technique is necessary)\n",
    "    \n",
    "    Args:\n",
    "        signal1 (list): sequence of n samples (1d) \n",
    "        samplerate_1 (float): sample rate of signal1\n",
    "        signal2 (list): sequence of n samples (1d) \n",
    "        samplerate_2 (float): sample rate of signal2\n",
    "        \n",
    "        window_size [kwargs] (float): determines the number of samples for which to compute the loss -> window\n",
    "        stride [kwargs] (float): determines the number of samples between the beginning of each time window\n",
    "        \n",
    "    Returns:\n",
    "        loss_values [list]: list of losses for each time window\n",
    "    \"\"\"\n",
    "    window_size = kwargs['window_size']\n",
    "    stride = kwargs['stride']\n",
    "    \n",
    "    n_samples = min(len(signal1), len(signal2))\n",
    "    loss_values = []\n",
    "    \n",
    "    begins = list(range(0, n_samples, stride))\n",
    "    if begins[-1] + stride > n_samples:\n",
    "        begins.pop()\n",
    "    for b in begins:\n",
    "        window_loss = loss(signal1[b:b+stride], samplerate_1, signal2[b:b+stride], samplerate_2, **kwargs)\n",
    "        loss_values.append(window_loss)\n",
    "        \n",
    "    ends = list(range(n_samples, 0, -stride))\n",
    "    if ends[-1] - stride < 0:\n",
    "        ends.pop()\n",
    "    for e in ends:\n",
    "        window_loss = loss(signal1[e-stride:e], samplerate_1, signal2[e-stride:e], samplerate_2, **kwargs)\n",
    "    \n",
    "    return loss_values\n",
    "\n",
    "def find_alignment(signal1: list, samplerate_1: float, signal2: list, samplerate_2: float, loss, **kwargs):\n",
    "    \"\"\"\n",
    "    Computes the loss between a shifted version of signal1/signal2 compared to signal2/signal1. \n",
    "    The signals are shifted by increments of 1 each time, with the hope that when the loss will be at\n",
    "    its minimum when the signals are aligned (naive alignment method). \n",
    "    \n",
    "    Assumes that there is only a time shift between the two signals, and no time distortion or speed differences.\n",
    "    \n",
    "    Args:\n",
    "        signal1 (list): sequence of n samples (1d) \n",
    "        samplerate_1 (float): sample rate of signal1\n",
    "        signal2 (list): sequence of n samples (1d) \n",
    "        samplerate_2 (float): sample rate of signal2\n",
    "        \n",
    "    Returns:\n",
    "        loss_values [list]: list of losses for each alignment trial\n",
    "    \"\"\"\n",
    "    percent_loss = kwargs['percent_loss']\n",
    "    \n",
    "    n_samples = min(len(signal1), len(signal2))\n",
    "    max_samples = max(len(signal1), len(signal2))\n",
    "    shifts = (n_samples * percent_loss) / 100\n",
    "    \n",
    "    loss_values = []\n",
    "    for i in range(int(shifts)):\n",
    "        # if generated signal is later than the original signal\n",
    "        sig2 = signal2[i:]\n",
    "        if len(sig2) > len(signal1):\n",
    "            sig2 = sig2[:len(signal1)]\n",
    "        sig1 = signal1[:len(sig2)]\n",
    "        late_signal = loss(sig1, samplerate_1, samplerate_2, sig2, **kwargs)\n",
    "        loss_values.append(late_signal)\n",
    "        \n",
    "        if i != 0:\n",
    "            # if generated signal is earlier than the original signal\n",
    "            sig1 = signal1[i:]\n",
    "            if len(sig1 > len(signal2)):\n",
    "                sig1 = sig1[:len(signal2)]\n",
    "            sig2 = signal2[:len(sig1)]\n",
    "            early_signal = loss(sig1, samplerate_1, sig2, samplerate_2, **kwargs)\n",
    "            loss_values.append(early_signal)\n",
    "    \n",
    "    return loss_values            \n",
    "\n",
    "def select_subsampling(subsampling:str):\n",
    "    if subsampling == 'windowing':\n",
    "        return windowing\n",
    "    elif subsampling == 'doublewindowing':\n",
    "        return double_windowing\n",
    "    elif subsampling == 'alignment':\n",
    "        return find_alignment\n",
    "    elif subsampling == 'full':\n",
    "        return full"
   ]
  },
  {
   "cell_type": "markdown",
   "id": "f5bfa37d",
   "metadata": {},
   "source": [
    "### Aggregation methods"
   ]
  },
  {
   "cell_type": "code",
   "execution_count": 6,
   "id": "dd365f21",
   "metadata": {
    "ExecuteTime": {
     "end_time": "2022-06-16T21:31:01.556618Z",
     "start_time": "2022-06-16T21:31:01.553134Z"
    }
   },
   "outputs": [],
   "source": [
    "def sum_errors(losses:list) -> float:\n",
    "    \"\"\"\n",
    "    Meant to aggregate list of errors (over several time windows for example) by summing those errors\n",
    "    \"\"\"\n",
    "    return np.sum(losses)\n",
    "\n",
    "def average_errors(losses:list) -> float:\n",
    "    \"\"\"\n",
    "    Meant to aggregate list of errors (over several time windows for example) by averageing those errors\n",
    "    \"\"\"\n",
    "    return np.mean(losses) \n",
    "\n",
    "def select_aggregation(agg:str):\n",
    "    if agg == 'sum':\n",
    "        return sum_errors\n",
    "    \n",
    "    elif agg == 'average':\n",
    "        return average_errors"
   ]
  },
  {
   "cell_type": "markdown",
   "id": "665d3d76",
   "metadata": {},
   "source": [
    "### Processing multiple channels"
   ]
  },
  {
   "cell_type": "code",
   "execution_count": 7,
   "id": "dffdbe24",
   "metadata": {
    "ExecuteTime": {
     "end_time": "2022-06-16T21:31:02.101906Z",
     "start_time": "2022-06-16T21:31:02.097834Z"
    }
   },
   "outputs": [],
   "source": [
    "def average_channels(signal:list):\n",
    "    \"\"\"\n",
    "    When the signal has different channels, average those channels over time\n",
    "    \"\"\"\n",
    "    if signal.shape[1] > 1:\n",
    "        return np.mean(signal, axis=1)\n",
    "    else:\n",
    "        return signal\n",
    "\n",
    "def downsample(signal: str, sample_rate:float):\n",
    "    \"\"\"\n",
    "    When a signal has a different sample_rate than an another one it needs to be compared to, \n",
    "    we can downsample it with the new sample_rate\n",
    "    \"\"\"\n",
    "    wav, sample_rate = librosa.load('./data/style_transfer_files/{}.wav'.format(signal), sr=sample_rate)\n",
    "    return sample_rate, wav"
   ]
  },
  {
   "cell_type": "markdown",
   "id": "db5ee72c",
   "metadata": {},
   "source": [
    "# Loss across methods"
   ]
  },
  {
   "cell_type": "code",
   "execution_count": 8,
   "id": "a8bac449",
   "metadata": {
    "ExecuteTime": {
     "end_time": "2022-06-16T21:31:02.810824Z",
     "start_time": "2022-06-16T21:31:02.801424Z"
    }
   },
   "outputs": [],
   "source": [
    "def loss_across_methods(source_path:str, target_path:list, generated_path: list, args: dict):\n",
    "    \n",
    "    losses = {\n",
    "        'source': {},\n",
    "        'target': {}\n",
    "    }\n",
    "    \n",
    "    source_sr, source_signal = load_wav(source_path)\n",
    "    target_sr, target_signal = load_wav(target_path)\n",
    "    \n",
    "    if source_sr != target_sr:\n",
    "        min_sr = np.argmin([source_sr, target_sr])\n",
    "        if min_sr == 0:\n",
    "            target_sr, target_signal = downsample(target_path, source_sr)\n",
    "        else:\n",
    "            source_sr, source_signal = downsample(source_path, target_sr)\n",
    "        \n",
    "    args['source_sr'] = source_sr\n",
    "    args['target_sr'] = target_sr\n",
    "    \n",
    "    if args['multiple_channels'] == 'external':\n",
    "        if len(source_signal.shape) > 1:\n",
    "            source_signal = average_channels(source_signal)\n",
    "        if len(target_signal.shape) > 1:\n",
    "            target_signal = average_channels(target_signal)\n",
    "            \n",
    "    for gen in generated_path:\n",
    "        gen_sr, generated_signal = load_wav(gen)\n",
    "        if gen_sr != source_sr:\n",
    "            min_sr = np.argmin([gen_sr, source_sr])\n",
    "            if min_sr == 0:\n",
    "                sampled_source_sr, sampled_source_signal = downsample(source_path, gen_sr)\n",
    "                sampled_target_sr, sampled_target_signal = downsample(target_path, gen_sr)\n",
    "            else:\n",
    "                gen_sr, generated_signal = downsample(gen, source_sr)\n",
    "                sampled_source_sr, sampled_source_signal = source_sr, [x for x in source_signal]\n",
    "                sampled_target_sr, sampled_target_signal = target_sr, [x for x in target_signal]\n",
    "        else:\n",
    "            sampled_source_sr, sampled_source_signal = source_sr, [x for x in source_signal]\n",
    "            sampled_target_sr, sampled_target_signal = target_sr, [x for x in target_signal]\n",
    "                \n",
    "        assert gen_sr == sampled_source_sr and gen_sr == sampled_target_sr\n",
    "        \n",
    "        loss_function = select_metric(args['loss_metric'])\n",
    "        subsampling_function = select_subsampling(args['subsampling_metric'])\n",
    "        aggregation_function = select_aggregation(args['aggregation_metric'])\n",
    "        \n",
    "        source_loss = subsampling_function(sampled_source_signal, sampled_source_sr, generated_signal, gen_sr, loss_function, **args)\n",
    "        losses['source'][gen] = aggregation_function(source_loss)\n",
    "        \n",
    "        target_loss = subsampling_function(sampled_target_signal, sampled_target_sr, generated_signal, gen_sr, loss_function, **args)\n",
    "        losses['target'][gen] = aggregation_function(target_loss)\n",
    "\n",
    "    return losses\n",
    "\n"
   ]
  },
  {
   "cell_type": "code",
   "execution_count": 9,
   "id": "d74a2671",
   "metadata": {
    "ExecuteTime": {
     "end_time": "2022-06-16T21:31:04.805163Z",
     "start_time": "2022-06-16T21:31:04.798346Z"
    }
   },
   "outputs": [],
   "source": [
    "def plot_losses(losses:dict, args:dict):\n",
    "    xs = []\n",
    "    ys = []\n",
    "    labels = []\n",
    "    for gen in losses['source']:\n",
    "        plt.scatter(losses['source'][gen], losses['target'][gen], label=gen)\n",
    "        xs.append(losses['source'][gen])\n",
    "        ys.append(losses['target'][gen])\n",
    "        \n",
    "    plt.legend()\n",
    "    plt.xlabel('source losses')\n",
    "    plt.ylabel('target losses')\n",
    "    plt.vlines(0, min(ys) - max(20, int(np.mean(ys)*0.5)), max(ys) + max(20, int(np.mean(ys)*0.5)), linewidth=0.3)\n",
    "    plt.ylim([min(ys)- max(20, int(np.mean(ys)*0.5)), max(ys) + max(20, int(np.mean(ys)*0.5))])\n",
    "    plt.hlines(0, min(xs) - max(20, int(np.mean(ys)*0.5)), max(xs) + max(20, int(np.mean(ys)*0.5)), linewidth=0.3)\n",
    "    plt.xlim([min(xs) - max(int(np.mean(ys)*0.5), 20), max(xs)+max(int(np.mean(ys)*0.5), 20)])\n",
    "    plt.show()"
   ]
  },
  {
   "cell_type": "code",
   "execution_count": 10,
   "id": "c9ee1592",
   "metadata": {
    "ExecuteTime": {
     "end_time": "2022-06-16T21:31:05.119886Z",
     "start_time": "2022-06-16T21:31:05.116745Z"
    }
   },
   "outputs": [],
   "source": [
    "possible_loss_functions = ['mse', 'rmse', 'esr', 'dc']\n",
    "possible_subsampling_functions = ['windowing', 'doublewindowing', 'alignment']\n",
    "\n",
    "arguments = {\n",
    "    'loss_metric': 'l2_mfcc', #mse_mfcc,\n",
    "    'subsampling_metric': 'full',\n",
    "    'aggregation_metric': 'average',\n",
    "#     'window_size': 44100,\n",
    "#     'stride': 22050,\n",
    "#     'percent_loss': 1,\n",
    "    'multiple_channels': 'external',\n",
    "    'n_mfcc': 25,\n",
    "    'mfcc_hoplength': 4410\n",
    "}"
   ]
  },
  {
   "cell_type": "code",
   "execution_count": 11,
   "id": "ae2066a3",
   "metadata": {
    "ExecuteTime": {
     "end_time": "2022-06-16T21:31:07.379961Z",
     "start_time": "2022-06-16T21:31:06.474386Z"
    }
   },
   "outputs": [
    {
     "data": {
      "image/png": "[encoded data removed]",
      "text/plain": [
       "<Figure size 432x288 with 1 Axes>"
      ]
     },
     "metadata": {
      "needs_background": "light"
     },
     "output_type": "display_data"
    }
   ],
   "source": [
    "losses = loss_across_methods('piano-C4', \n",
    "                    'violin-C4', \n",
    "                    ['adain_piano2violin_C4', 'adain_violin2piano_C4'], \n",
    "                    arguments)\n",
    "plot_losses(losses, arguments)"
   ]
  },
  {
   "cell_type": "code",
   "execution_count": null,
   "id": "f7e98b60",
   "metadata": {},
   "outputs": [],
   "source": []
  }
 ],
 "metadata": {
  "kernelspec": {
   "display_name": "Python 3 (ipykernel)",
   "language": "python",
   "name": "python3"
  },
  "language_info": {
   "codemirror_mode": {
    "name": "ipython",
    "version": 3
   },
   "file_extension": ".py",
   "mimetype": "text/x-python",
   "name": "python",
   "nbconvert_exporter": "python",
   "pygments_lexer": "ipython3",
   "version": "3.8.13"
  },
  "toc": {
   "base_numbering": 1,
   "nav_menu": {},
   "number_sections": true,
   "sideBar": true,
   "skip_h1_title": false,
   "title_cell": "Table of Contents",
   "title_sidebar": "Contents",
   "toc_cell": false,
   "toc_position": {},
   "toc_section_display": true,
   "toc_window_display": false
  }
 },
 "nbformat": 4,
 "nbformat_minor": 5
}
